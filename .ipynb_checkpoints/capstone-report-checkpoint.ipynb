{
 "cells": [
  {
   "cell_type": "markdown",
   "id": "825c4429",
   "metadata": {},
   "source": [
    "# Capstone Project Report \n",
    "## *MDS 2021 Capstone Project with the Gerontology Diabetes Research Lab (GDRL)*"
   ]
  },
  {
   "cell_type": "markdown",
   "id": "ec75f694",
   "metadata": {},
   "source": [
    "## Executive Summary"
   ]
  },
  {
   "cell_type": "markdown",
   "id": "f58ce55e-5966-48c5-979c-1a08976447a6",
   "metadata": {},
   "source": [
    "*A brief and high level summary of the project proposal.*"
   ]
  },
  {
   "cell_type": "markdown",
   "id": "d3ff6f92",
   "metadata": {},
   "source": [
    "> proposal: Subclinical lipohypertrophy is traditionally evaluated based on visual inspection or palpation. However, recent work has shown that lipohypertrophy may be detected by ultrasound imaging. The criteria used to classify lipohypertrophy using ultrasound imaging is only familiar to and implemented by a small group of physicians. In an effort to improve the accessibility and efficiency of this method of detection, our capstone partner has asked us to explore the possibility of using supervised machine learning to detect lipohypertrophy on ultrasound images. \n",
    "\n",
    "> In this project, we will be creating a convolutional neural network to detect the presence of lipohypertrophy in ultrasound images. We will be testing a variety of image preprocessing and transfer learning methodologies to select our finalized machine learning pipeline. Our proposed data product is a Python application that can intake new ultrasound images and make accurate predictions on the presence or absence of lipohypertrophy. "
   ]
  },
  {
   "cell_type": "markdown",
   "id": "18178e9c",
   "metadata": {},
   "source": [
    "<br>"
   ]
  },
  {
   "cell_type": "markdown",
   "id": "fa252887",
   "metadata": {},
   "source": [
    "## Introduction"
   ]
  },
  {
   "cell_type": "markdown",
   "id": "2f8ab43f-8875-4f5e-8be7-aa16d00ff4af",
   "metadata": {},
   "source": [
    "*The introduction should start broad, introducing the question being asked/problem needing solving and why it is important. Any relevant information to understand the question/problem and its importance should be included. This may be similar to the problem statement of the proposal, but it has most likely evolved at least a little.*\n",
    "\n",
    "*Over the course of the project, you’ve refined the problem statement into tangible objectives that can be directly assessed by data science techniques. Indicate these refined tangible objectives here, along with your reasoning for why these scientific objectives are useful for addressing the capstone partner’s needs. You might need to describe the available data first before outlining the scientific objectives.*"
   ]
  },
  {
   "cell_type": "markdown",
   "id": "5de568ad",
   "metadata": {},
   "source": [
    "> proposal: Lipohypertrophy is a common complication for diabetic patients who inject insulin {cite}`kapeluto2018ultrasound`. It is defined as the growth of fat cells and fibrous tissue with lowered vascularity in the skin following repeated trauma of insulin injection in the same area. Our focus is on subclinical hypertrophy which forms in the subcutaneous layer (the deepest layer of the skin) {cite}`boundless`. It is critical that insulin is not injected into areas of lipohypertrophy as it reduces the effectiveness of the insulin such that patients are unable to manage their blood sugar levels and may require more insulin to achieve the same therapeutic benefits {cite}`kapeluto2018ultrasound`. Fortunately, research by Kapeluto et al. (2018) {cite}`kapeluto2018ultrasound` has found ultrasound imaging techniques are more accurate in finding these masses than a physical examination of the body by a healthcare professional. But, currently, the criteria to classify lipohypertrophy using ultrasound imaging is only implemented by a small group of physicians {cite}`madden_2021`. To expand the usability of this criteria to a larger set of healthcare professionals, the capstone partner is interested in seeing if we could leverage supervised machine learning techniques to accurately classify the presence of lipohypertrophy given an ultrasound image. "
   ]
  },
  {
   "cell_type": "markdown",
   "id": "d51e7dd2",
   "metadata": {},
   "source": [
    "## Data Science Methods"
   ]
  },
  {
   "cell_type": "markdown",
   "id": "2f8931fc-cbf9-40db-8ecb-eee907a507d2",
   "metadata": {},
   "source": [
    "*Next, describe the data science techniques you used to address the scientific objectives. In your discussion, you might want to include:*\n",
    "\n",
    "*Pros and cons of using this method;\n",
    "Justification over other methods;\n",
    "An indication of a method that might work better, or improvements one could make to your techniques. Also indicate the difficulties associated with making these improvements, and why you didn’t implement the improvements.*"
   ]
  },
  {
   "cell_type": "markdown",
   "id": "3cf6f3f3",
   "metadata": {},
   "source": [
    "### Example table\n",
    "\n",
    "|  | Positive | Negative |\n",
    "| --- | --- | --- |\n",
    "| Count | 135 | 128 |\n",
    "| Proportion | 51% | 49% |"
   ]
  },
  {
   "cell_type": "markdown",
   "id": "79a6f7f4-15b2-4dba-a114-e08e2fdb00a8",
   "metadata": {},
   "source": [
    "### Example plots with figure captions"
   ]
  },
  {
   "cell_type": "code",
   "execution_count": 1,
   "id": "fdbd7150",
   "metadata": {
    "tags": [
     "hide-input"
    ]
   },
   "outputs": [
    {
     "ename": "NameError",
     "evalue": "name 'figure' is not defined",
     "output_type": "error",
     "traceback": [
      "\u001b[0;31m---------------------------------------------------------------------------\u001b[0m",
      "\u001b[0;31mNameError\u001b[0m                                 Traceback (most recent call last)",
      "\u001b[0;32m<ipython-input-1-1352b7c280cf>\u001b[0m in \u001b[0;36m<module>\u001b[0;34m\u001b[0m\n\u001b[0;32m----> 1\u001b[0;31m \u001b[0mfig\u001b[0m \u001b[0;34m=\u001b[0m \u001b[0mfigure\u001b[0m\u001b[0;34m(\u001b[0m\u001b[0mfigsize\u001b[0m\u001b[0;34m=\u001b[0m\u001b[0;34m(\u001b[0m\u001b[0;36m10\u001b[0m\u001b[0;34m,\u001b[0m \u001b[0;36m8\u001b[0m\u001b[0;34m)\u001b[0m\u001b[0;34m)\u001b[0m\u001b[0;34m\u001b[0m\u001b[0;34m\u001b[0m\u001b[0m\n\u001b[0m\u001b[1;32m      2\u001b[0m \u001b[0ma\u001b[0m\u001b[0;34m=\u001b[0m\u001b[0mfig\u001b[0m\u001b[0;34m.\u001b[0m\u001b[0madd_subplot\u001b[0m\u001b[0;34m(\u001b[0m\u001b[0;36m1\u001b[0m\u001b[0;34m,\u001b[0m\u001b[0;36m1\u001b[0m\u001b[0;34m,\u001b[0m\u001b[0;36m1\u001b[0m\u001b[0;34m)\u001b[0m\u001b[0;34m\u001b[0m\u001b[0;34m\u001b[0m\u001b[0m\n\u001b[1;32m      3\u001b[0m \u001b[0mimage\u001b[0m \u001b[0;34m=\u001b[0m \u001b[0mimread\u001b[0m\u001b[0;34m(\u001b[0m\u001b[0;34m\"proposal_feature_importance.PNG\"\u001b[0m\u001b[0;34m)\u001b[0m\u001b[0;34m\u001b[0m\u001b[0;34m\u001b[0m\u001b[0m\n\u001b[1;32m      4\u001b[0m \u001b[0mimshow\u001b[0m\u001b[0;34m(\u001b[0m\u001b[0mimage\u001b[0m\u001b[0;34m)\u001b[0m\u001b[0;34m\u001b[0m\u001b[0;34m\u001b[0m\u001b[0m\n\u001b[1;32m      5\u001b[0m \u001b[0maxis\u001b[0m\u001b[0;34m(\u001b[0m\u001b[0;34m'off'\u001b[0m\u001b[0;34m)\u001b[0m\u001b[0;34m\u001b[0m\u001b[0;34m\u001b[0m\u001b[0m\n",
      "\u001b[0;31mNameError\u001b[0m: name 'figure' is not defined"
     ]
    }
   ],
   "source": [
    "fig = figure(figsize=(10, 8))\n",
    "a=fig.add_subplot(1,1,1)\n",
    "image = imread(\"proposal_feature_importance.PNG\")\n",
    "imshow(image)\n",
    "axis('off')\n",
    "txt = \"Figure 2: Feature Importance. The lighter orange and yellow areas on the right represent areas that \\n the baseline model thinks are important for detecting lipohypertrophy.\"\n",
    "_ = figtext(0.5, 0.10, txt, horizontalalignment='center', fontsize=14)"
   ]
  },
  {
   "cell_type": "markdown",
   "id": "850b899c",
   "metadata": {},
   "source": [
    "<br>"
   ]
  },
  {
   "cell_type": "markdown",
   "id": "e588261e",
   "metadata": {},
   "source": [
    "## Data product and results"
   ]
  },
  {
   "cell_type": "markdown",
   "id": "422446ba",
   "metadata": {},
   "source": [
    "*Describe your data product and any relevant results obtained from it. For the description of the data product, you might want to include:*\n",
    "\n",
    "*How you intend the partner to use the data product;\n",
    "Pros and cons of using this product/interface;\n",
    "Justification over other products/interfaces;\n",
    "An indication of a product/interface that might work better, or improvements one could make to your product/interface. Also indicate the difficulties associated with making these improvements, and why you didn’t implement the improvements.\n",
    "The description of your data product should not include an indication of how to technically use the data product, nor any other documentation to your product. Such “how-related” topics belong with the product itself (e.g., in the README). Rather, this final report should focus on the “why-related” topics to communicate the purpose of the product’s existence.*"
   ]
  },
  {
   "cell_type": "markdown",
   "id": "fc063eb0-53f4-442a-9b74-05fedb754a4d",
   "metadata": {},
   "source": [
    "## Conclusions and recommendations"
   ]
  },
  {
   "cell_type": "markdown",
   "id": "f6fab164-bb48-4f71-a375-b5ec57601719",
   "metadata": {},
   "source": [
    "*Re-state the question being asked/problem needing solving and explain how your data product answers/solves it. Comment on how well your product answered their question/solved their problem, and discuss any limitations of the product in its ability of doing so. Describe recommendations for the partner to continue/improve the project in the future.*"
   ]
  },
  {
   "cell_type": "markdown",
   "id": "0cd16873-eac6-43dc-8e2a-ee3c8e5ecacd",
   "metadata": {},
   "source": [
    "## References"
   ]
  },
  {
   "cell_type": "markdown",
   "id": "3d635643",
   "metadata": {},
   "source": [
    "<br>"
   ]
  }
 ],
 "metadata": {
  "kernelspec": {
   "display_name": "Python 3",
   "language": "python",
   "name": "python3"
  },
  "language_info": {
   "codemirror_mode": {
    "name": "ipython",
    "version": 3
   },
   "file_extension": ".py",
   "mimetype": "text/x-python",
   "name": "python",
   "nbconvert_exporter": "python",
   "pygments_lexer": "ipython3",
   "version": "3.8.8"
  },
  "toc-autonumbering": false
 },
 "nbformat": 4,
 "nbformat_minor": 5
}
